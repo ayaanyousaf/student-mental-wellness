{
 "cells": [
  {
   "cell_type": "markdown",
   "metadata": {},
   "source": [
    "# Student Mental Wellness \n",
    "**Author: Ayaan Yousaf**\n",
    "\n",
    "Mental health as a whole is a vast and intricate topic. In this report, I will primarily focus on the mental well-being of students in higher education as it is a helpful topic to understand as a student myself, and for anyone currently enrolled in a college or university program. The mental well-being of students remains an important topic as the standards of education evolve. The dataset I have chosen on the mental health of students serves as a key resource and allows me to explore various different factors and identify relationships between them. Upon initial inspection of this dataset, I became interested in the relationships between variables such as the student's year of study and how it may correlate to their mental health. Do students who have just begun their studies deal with more mental health issues? What about students who are in the middle or end of their studies? We can also explore this on a larger scope, how does gender and age come in to play? There are many questions we can answer by analyzing this dataset, and it may be useful for students to understand these relationships to maintain a healthy mindset.\n",
    "\n",
    "![Mental Health Image](https://miro.medium.com/v2/resize:fit:786/format:webp/1*nhiHy8jjnEtMrNzKl3SIRg.jpeg)\n",
    "\n",
    "<p style=\"font-size: x-small\">Gabrielle Pamandanan, via <a href=\"https://medium.com/@gabloisanne18/the-difference-in-mental-health-between-public-and-private-schools-89dc2124bae0\">[Medium]</p>"
   ]
  },
  {
   "cell_type": "markdown",
   "metadata": {},
   "source": [
    " To aid me in my analysis, I will investigate the following variables: \n",
    " - Gender: the student's gender\n",
    " - Age: the student's age \n",
    " - Year: the student's year of study ranging from first year to fourth year \n",
    " - CGPA: the student's cumulative grade-point average given as a range (e.g. 3.50-4.00)\n",
    " - Depression: does the student have depression? \n",
    " - Anxiety: does the student have anxiety? \n",
    " - Panic Attacks: does the student experience panic attacks? \n",
    " - Treatment: has the student sought any form of treatment? "
   ]
  },
  {
   "cell_type": "markdown",
   "metadata": {},
   "source": [
    "## Methods \n",
    "### Data Collection\n",
    "The dataset analyzed in this assignment was obtained from [Kaggle](https://www.kaggle.com/datasets/shariful07/student-mental-health/data), a large resource providing many different datasets."
   ]
  },
  {
   "cell_type": "code",
   "execution_count": 1,
   "metadata": {},
   "outputs": [],
   "source": [
    "import pandas as pd\n",
    "import seaborn as sns \n",
    "import matplotlib.pyplot as plt \n",
    "import csv \n",
    "\n",
    "# Import data into Python and store it as a pandas dataframe \n",
    "students = pd.read_csv('student_data.csv')"
   ]
  },
  {
   "cell_type": "markdown",
   "metadata": {},
   "source": [
    "### Cleaning and Preprocessing Data \n",
    "> Initially, I will remove any unnecessary columns in the dataset as they are irrelevant to the questions I want to answer. <br> I will also remove the \"What is your course?\" column as this dataset contains a wide variety of majors/programs that will not be helpful for analysis. </br>"
   ]
  },
  {
   "cell_type": "code",
   "execution_count": 2,
   "metadata": {},
   "outputs": [],
   "source": [
    "# Drop unnecessary columns\n",
    "students = students.drop(columns=[\"Timestamp\", \"Marital status\", \"What is your course?\"])"
   ]
  },
  {
   "cell_type": "markdown",
   "metadata": {},
   "source": [
    "> Most columns in this dataset are named as a question and are too lengthy. I will shorten these column names and rename them as needed."
   ]
  },
  {
   "cell_type": "code",
   "execution_count": 3,
   "metadata": {},
   "outputs": [],
   "source": [
    "# Update column names \n",
    "students.columns = [\"Gender\", \"Age\", \"Year\", \"CGPA\", \"Depression\", \"Anxiety\", \"Panic Attacks\", \"Treatment\"]"
   ]
  },
  {
   "cell_type": "markdown",
   "metadata": {},
   "source": [
    "> I will also be updating the values for columns where the data is either \"Yes\" or \"No\" to 0 for \"No\" and 1 for \"Yes\". Modifying these values to be represented in a numeric way will allow me to obtain summary statistics easily. The values for the \"Year\" column will also be changed to numeric values to improve readability."
   ]
  },
  {
   "cell_type": "markdown",
   "metadata": {},
   "source": [
    "> I also noticed some values in the \"Year\" column were capitalized, and some were not. Both of these values will be taken into account when applying the replace method."
   ]
  },
  {
   "cell_type": "code",
   "execution_count": 4,
   "metadata": {},
   "outputs": [],
   "source": [
    "# Update values to numeric format using dict-like replace\n",
    "students = students.replace({'Yes': 1, 'No': 0, 'year 1': 1, 'year 2': 2, 'year 3': 3, 'year 4': 4,\n",
    "                             'Year 1': 1, 'Year 2': 2, 'Year 3': 3, 'Year 4': 4}\n",
    "                            )"
   ]
  },
  {
   "cell_type": "code",
   "execution_count": 5,
   "metadata": {},
   "outputs": [
    {
     "data": {
      "text/plain": [
       "array(['3.00 - 3.49', '3.50 - 4.00', '3.50 - 4.00 ', '2.50 - 2.99',\n",
       "       '2.00 - 2.49', '0 - 1.99'], dtype=object)"
      ]
     },
     "execution_count": 5,
     "metadata": {},
     "output_type": "execute_result"
    }
   ],
   "source": [
    "students.CGPA.unique()"
   ]
  },
  {
   "cell_type": "markdown",
   "metadata": {},
   "source": [
    "> I noticed many of the values in this dataset contained spelling error or unnecessary whitespace. This is problematic for the CGPA column as I will be analyzing the data for it. I will remove values affected by this."
   ]
  },
  {
   "cell_type": "code",
   "execution_count": 6,
   "metadata": {},
   "outputs": [],
   "source": [
    "students.CGPA = students.CGPA.str.strip()"
   ]
  },
  {
   "cell_type": "markdown",
   "metadata": {},
   "source": [
    "## Analyses"
   ]
  },
  {
   "cell_type": "markdown",
   "metadata": {},
   "source": [
    "### Exploring Distributions\n",
    "\n",
    "> Before looking for relationships in this dataset, I will briefly examine some important general distributions present in the data by creating histograms and interpreting summary statistics so I can get a better idea of potential biases and factors that may skew the analyses."
   ]
  },
  {
   "cell_type": "code",
   "execution_count": 7,
   "metadata": {},
   "outputs": [
    {
     "data": {
      "image/png": "[encoded data removed]",
      "text/plain": [
       "<Figure size 1000x600 with 2 Axes>"
      ]
     },
     "metadata": {},
     "output_type": "display_data"
    },
    {
     "data": {
      "text/html": [
       "<div>\n",
       "<style scoped>\n",
       "    .dataframe tbody tr th:only-of-type {\n",
       "        vertical-align: middle;\n",
       "    }\n",
       "\n",
       "    .dataframe tbody tr th {\n",
       "        vertical-align: top;\n",
       "    }\n",
       "\n",
       "    .dataframe thead th {\n",
       "        text-align: right;\n",
       "    }\n",
       "</style>\n",
       "<table border=\"1\" class=\"dataframe\">\n",
       "  <thead>\n",
       "    <tr style=\"text-align: right;\">\n",
       "      <th></th>\n",
       "      <th>Count</th>\n",
       "    </tr>\n",
       "    <tr>\n",
       "      <th>Age</th>\n",
       "      <th></th>\n",
       "    </tr>\n",
       "  </thead>\n",
       "  <tbody>\n",
       "    <tr>\n",
       "      <th>18.0</th>\n",
       "      <td>32</td>\n",
       "    </tr>\n",
       "    <tr>\n",
       "      <th>19.0</th>\n",
       "      <td>21</td>\n",
       "    </tr>\n",
       "    <tr>\n",
       "      <th>20.0</th>\n",
       "      <td>6</td>\n",
       "    </tr>\n",
       "    <tr>\n",
       "      <th>21.0</th>\n",
       "      <td>3</td>\n",
       "    </tr>\n",
       "    <tr>\n",
       "      <th>22.0</th>\n",
       "      <td>2</td>\n",
       "    </tr>\n",
       "    <tr>\n",
       "      <th>23.0</th>\n",
       "      <td>13</td>\n",
       "    </tr>\n",
       "    <tr>\n",
       "      <th>24.0</th>\n",
       "      <td>23</td>\n",
       "    </tr>\n",
       "  </tbody>\n",
       "</table>\n",
       "</div>"
      ],
      "text/plain": [
       "      Count\n",
       "Age        \n",
       "18.0     32\n",
       "19.0     21\n",
       "20.0      6\n",
       "21.0      3\n",
       "22.0      2\n",
       "23.0     13\n",
       "24.0     23"
      ]
     },
     "metadata": {},
     "output_type": "display_data"
    },
    {
     "data": {
      "text/html": [
       "<div>\n",
       "<style scoped>\n",
       "    .dataframe tbody tr th:only-of-type {\n",
       "        vertical-align: middle;\n",
       "    }\n",
       "\n",
       "    .dataframe tbody tr th {\n",
       "        vertical-align: top;\n",
       "    }\n",
       "\n",
       "    .dataframe thead th {\n",
       "        text-align: right;\n",
       "    }\n",
       "</style>\n",
       "<table border=\"1\" class=\"dataframe\">\n",
       "  <thead>\n",
       "    <tr style=\"text-align: right;\">\n",
       "      <th></th>\n",
       "      <th>Count</th>\n",
       "    </tr>\n",
       "    <tr>\n",
       "      <th>Gender</th>\n",
       "      <th></th>\n",
       "    </tr>\n",
       "  </thead>\n",
       "  <tbody>\n",
       "    <tr>\n",
       "      <th>Female</th>\n",
       "      <td>75</td>\n",
       "    </tr>\n",
       "    <tr>\n",
       "      <th>Male</th>\n",
       "      <td>26</td>\n",
       "    </tr>\n",
       "  </tbody>\n",
       "</table>\n",
       "</div>"
      ],
      "text/plain": [
       "        Count\n",
       "Gender       \n",
       "Female     75\n",
       "Male       26"
      ]
     },
     "metadata": {},
     "output_type": "display_data"
    },
    {
     "name": "stdout",
     "output_type": "stream",
     "text": [
      "Average Age = 20.53\n"
     ]
    }
   ],
   "source": [
    "# Create subplots \n",
    "fig, axes = plt.subplots(nrows=1, ncols=2, figsize=(10, 6))\n",
    "\n",
    "# Age distribution histogram\n",
    "students.Age.hist(bins=7, color='red', alpha=0.8, ax=axes[0], grid=False)\n",
    "axes[0].set_title(\"Age Distribution\")\n",
    "axes[0].set_xlabel(\"Age\")\n",
    "axes[0].set_ylabel(\"Count\")\n",
    "\n",
    "# Gender distribution histogram\n",
    "students.Gender.hist(bins=3, color='purple', alpha=0.8, ax=axes[1], grid=False)\n",
    "axes[1].set_title(\"Gender Distribution\")\n",
    "axes[1].set_xlabel(\"Gender\")\n",
    "axes[1].set_ylabel(\"Count\")\n",
    "\n",
    "# Display the histograms\n",
    "plt.show()\n",
    "\n",
    "# Display counts for Age and Gender columns as a dataframes\n",
    "age_dist = students.groupby('Age').size().to_frame(name='Count')\n",
    "gender_dist = students.groupby('Gender').size().to_frame(name='Count')\n",
    "display(age_dist, gender_dist)\n",
    "\n",
    "# Average age\n",
    "age_stats = students['Age'].describe()\n",
    "print(f\"Average Age = {age_stats['mean']}\")"
   ]
  },
  {
   "cell_type": "markdown",
   "metadata": {},
   "source": [
    "> As shown above, this dataset primarily examines females, with 75 of the students being females, and the remaining 26 being males. \n",
    "The ages also range from 18 to 24 in the data, with the majority being 32 18 year-olds, and the minimum being only two 22 year-old students. The average age in this group was calculated to be 20.53, so we can clearly see that majority of the students in this dataset are younger."
   ]
  },
  {
   "cell_type": "code",
   "execution_count": 8,
   "metadata": {},
   "outputs": [
    {
     "data": {
      "image/png": "[encoded data removed]",
      "text/plain": [
       "<Figure size 640x480 with 1 Axes>"
      ]
     },
     "metadata": {},
     "output_type": "display_data"
    }
   ],
   "source": [
    "# Display histplot of student CGPA values sorted in increasing order\n",
    "sns.histplot(students.CGPA.sort_values())\n",
    "\n",
    "# Set x-axis to be CGPA ranges, and y-axis to be counts\n",
    "plt.xlabel(\"CGPA\")\n",
    "plt.ylabel(\"Count\")\n",
    "plt.title('CGPA Distribution')\n",
    "\n",
    "plt.show()"
   ]
  },
  {
   "cell_type": "markdown",
   "metadata": {},
   "source": [
    "> The graph above shows most of the students have higher CGPAs in this dataset"
   ]
  },
  {
   "cell_type": "code",
   "execution_count": 9,
   "metadata": {},
   "outputs": [
    {
     "data": {
      "image/png": "[encoded data removed]",
      "text/plain": [
       "<Figure size 640x480 with 1 Axes>"
      ]
     },
     "metadata": {},
     "output_type": "display_data"
    }
   ],
   "source": [
    "# Display a pie chart of students seeking treatment vs. not seeking treatment \n",
    "plt.pie(students.Treatment.value_counts(), labels=[\"Not Seeking Treatment\", \"Seeking Treatment\"], autopct=\"%1.1f%%\", startangle=60, colors=['red', 'lime'])\n",
    "plt.title('Proportion of Students Seeking Treatment')\n",
    "plt.show()"
   ]
  },
  {
   "cell_type": "markdown",
   "metadata": {},
   "source": [
    "> This pie chart shows that majority of the students are not seeking treatment. 94.1% of students are not seeking any treatment, while only 5.9% are."
   ]
  },
  {
   "cell_type": "markdown",
   "metadata": {},
   "source": [
    "### Age vs. Depression, Anxiety, Panic Attacks"
   ]
  },
  {
   "cell_type": "code",
   "execution_count": 10,
   "metadata": {},
   "outputs": [
    {
     "name": "stdout",
     "output_type": "stream",
     "text": [
      "Average Age With Depression: 20.29\n",
      "Average Age With Anxiety: 20.21\n",
      "Average Age With Panic Attacks: 20.29\n"
     ]
    }
   ],
   "source": [
    "# Compare student age with depression, anxiety, and panic attacks seperately using loc and compute means\n",
    "print(f\"Average Age With Depression: {round(students.loc[students.Depression == 1].Age.mean(), 2)}\")\n",
    "print(f\"Average Age With Anxiety: {round(students.loc[students.Anxiety == 1].Age.mean(), 2)}\")\n",
    "print(f\"Average Age With Panic Attacks: {round(students.loc[students.Depression == 1].Age.mean(), 2)}\")"
   ]
  },
  {
   "cell_type": "markdown",
   "metadata": {},
   "source": [
    "> The average age of students who experience depression, anxiety, or panic attacks appears to be younger. It is important to note that majority of the ages in the dataset were younger students, but there are still a good amount of senior students. This suggests that on average, more younger students experience either depression, anxiety, or panic attacks than older students."
   ]
  },
  {
   "cell_type": "markdown",
   "metadata": {},
   "source": [
    "### Year vs. Depression, Anxiety, Panic Attacks"
   ]
  },
  {
   "cell_type": "code",
   "execution_count": 11,
   "metadata": {},
   "outputs": [
    {
     "data": {
      "text/html": [
       "<div>\n",
       "<style scoped>\n",
       "    .dataframe tbody tr th:only-of-type {\n",
       "        vertical-align: middle;\n",
       "    }\n",
       "\n",
       "    .dataframe tbody tr th {\n",
       "        vertical-align: top;\n",
       "    }\n",
       "\n",
       "    .dataframe thead th {\n",
       "        text-align: right;\n",
       "    }\n",
       "</style>\n",
       "<table border=\"1\" class=\"dataframe\">\n",
       "  <thead>\n",
       "    <tr style=\"text-align: right;\">\n",
       "      <th>Depression</th>\n",
       "      <th>No</th>\n",
       "      <th>Yes</th>\n",
       "      <th>Percentage</th>\n",
       "    </tr>\n",
       "    <tr>\n",
       "      <th>Year</th>\n",
       "      <th></th>\n",
       "      <th></th>\n",
       "      <th></th>\n",
       "    </tr>\n",
       "  </thead>\n",
       "  <tbody>\n",
       "    <tr>\n",
       "      <th>1</th>\n",
       "      <td>29</td>\n",
       "      <td>14</td>\n",
       "      <td>32.6</td>\n",
       "    </tr>\n",
       "    <tr>\n",
       "      <th>2</th>\n",
       "      <td>16</td>\n",
       "      <td>10</td>\n",
       "      <td>38.5</td>\n",
       "    </tr>\n",
       "    <tr>\n",
       "      <th>3</th>\n",
       "      <td>14</td>\n",
       "      <td>10</td>\n",
       "      <td>41.7</td>\n",
       "    </tr>\n",
       "    <tr>\n",
       "      <th>4</th>\n",
       "      <td>7</td>\n",
       "      <td>1</td>\n",
       "      <td>12.5</td>\n",
       "    </tr>\n",
       "  </tbody>\n",
       "</table>\n",
       "</div>"
      ],
      "text/plain": [
       "Depression  No  Yes  Percentage\n",
       "Year                           \n",
       "1           29   14        32.6\n",
       "2           16   10        38.5\n",
       "3           14   10        41.7\n",
       "4            7    1        12.5"
      ]
     },
     "metadata": {},
     "output_type": "display_data"
    },
    {
     "data": {
      "text/html": [
       "<div>\n",
       "<style scoped>\n",
       "    .dataframe tbody tr th:only-of-type {\n",
       "        vertical-align: middle;\n",
       "    }\n",
       "\n",
       "    .dataframe tbody tr th {\n",
       "        vertical-align: top;\n",
       "    }\n",
       "\n",
       "    .dataframe thead th {\n",
       "        text-align: right;\n",
       "    }\n",
       "</style>\n",
       "<table border=\"1\" class=\"dataframe\">\n",
       "  <thead>\n",
       "    <tr style=\"text-align: right;\">\n",
       "      <th>Anxiety</th>\n",
       "      <th>No</th>\n",
       "      <th>Yes</th>\n",
       "      <th>Percentage</th>\n",
       "    </tr>\n",
       "    <tr>\n",
       "      <th>Year</th>\n",
       "      <th></th>\n",
       "      <th></th>\n",
       "      <th></th>\n",
       "    </tr>\n",
       "  </thead>\n",
       "  <tbody>\n",
       "    <tr>\n",
       "      <th>1</th>\n",
       "      <td>29</td>\n",
       "      <td>14</td>\n",
       "      <td>32.6</td>\n",
       "    </tr>\n",
       "    <tr>\n",
       "      <th>2</th>\n",
       "      <td>16</td>\n",
       "      <td>10</td>\n",
       "      <td>38.5</td>\n",
       "    </tr>\n",
       "    <tr>\n",
       "      <th>3</th>\n",
       "      <td>16</td>\n",
       "      <td>8</td>\n",
       "      <td>33.3</td>\n",
       "    </tr>\n",
       "    <tr>\n",
       "      <th>4</th>\n",
       "      <td>6</td>\n",
       "      <td>2</td>\n",
       "      <td>25.0</td>\n",
       "    </tr>\n",
       "  </tbody>\n",
       "</table>\n",
       "</div>"
      ],
      "text/plain": [
       "Anxiety  No  Yes  Percentage\n",
       "Year                        \n",
       "1        29   14        32.6\n",
       "2        16   10        38.5\n",
       "3        16    8        33.3\n",
       "4         6    2        25.0"
      ]
     },
     "metadata": {},
     "output_type": "display_data"
    },
    {
     "data": {
      "text/html": [
       "<div>\n",
       "<style scoped>\n",
       "    .dataframe tbody tr th:only-of-type {\n",
       "        vertical-align: middle;\n",
       "    }\n",
       "\n",
       "    .dataframe tbody tr th {\n",
       "        vertical-align: top;\n",
       "    }\n",
       "\n",
       "    .dataframe thead th {\n",
       "        text-align: right;\n",
       "    }\n",
       "</style>\n",
       "<table border=\"1\" class=\"dataframe\">\n",
       "  <thead>\n",
       "    <tr style=\"text-align: right;\">\n",
       "      <th>Panic Attacks</th>\n",
       "      <th>No</th>\n",
       "      <th>Yes</th>\n",
       "      <th>Percentage</th>\n",
       "    </tr>\n",
       "    <tr>\n",
       "      <th>Year</th>\n",
       "      <th></th>\n",
       "      <th></th>\n",
       "      <th></th>\n",
       "    </tr>\n",
       "  </thead>\n",
       "  <tbody>\n",
       "    <tr>\n",
       "      <th>1</th>\n",
       "      <td>29</td>\n",
       "      <td>14</td>\n",
       "      <td>32.6</td>\n",
       "    </tr>\n",
       "    <tr>\n",
       "      <th>2</th>\n",
       "      <td>18</td>\n",
       "      <td>8</td>\n",
       "      <td>30.8</td>\n",
       "    </tr>\n",
       "    <tr>\n",
       "      <th>3</th>\n",
       "      <td>14</td>\n",
       "      <td>10</td>\n",
       "      <td>41.7</td>\n",
       "    </tr>\n",
       "    <tr>\n",
       "      <th>4</th>\n",
       "      <td>7</td>\n",
       "      <td>1</td>\n",
       "      <td>12.5</td>\n",
       "    </tr>\n",
       "  </tbody>\n",
       "</table>\n",
       "</div>"
      ],
      "text/plain": [
       "Panic Attacks  No  Yes  Percentage\n",
       "Year                              \n",
       "1              29   14        32.6\n",
       "2              18    8        30.8\n",
       "3              14   10        41.7\n",
       "4               7    1        12.5"
      ]
     },
     "metadata": {},
     "output_type": "display_data"
    }
   ],
   "source": [
    "# Convert numeric values back to 'Yes' and 'No' to improve readability\n",
    "students.Depression = students.Depression.replace({0: 'No', 1: 'Yes'})\n",
    "students.Anxiety = students.Anxiety.replace({0: 'No', 1: 'Yes'})\n",
    "students['Panic Attacks'] = students['Panic Attacks'].replace({0: 'No', 1: 'Yes'})\n",
    "\n",
    "# Display table of students in each year with depression\n",
    "year_depression = students.groupby(['Year', 'Depression']).size().unstack()\n",
    "year_depression['Percentage'] = ((year_depression['Yes'] / (year_depression['No'] + year_depression['Yes'])) * 100).round(1)\n",
    "display(year_depression)\n",
    "\n",
    "# Display table of students in each year with anxiety\n",
    "year_anxiety = students.groupby(['Year', 'Anxiety']).size().unstack()\n",
    "year_anxiety['Percentage'] = ((year_anxiety['Yes'] / (year_anxiety['No'] + year_anxiety['Yes'])) * 100).round(1)\n",
    "display(year_anxiety)\n",
    "\n",
    "# Display table of students in each year with panic attacks\n",
    "year_panic = students.groupby(['Year', 'Panic Attacks']).size().unstack()\n",
    "year_panic['Percentage'] = ((year_panic['Yes'] / (year_panic['No'] + year_panic['Yes'])) * 100).round(1)\n",
    "display(year_panic)"
   ]
  },
  {
   "cell_type": "markdown",
   "metadata": {},
   "source": [
    "> Interestingly, these tables show a reasonably equal split on percentages of students with facing mental health issues for each year. It appears that the highest percentage (41.7%) of third-year students experience depression and panic attacks, while mainly second-year students experience anxiety, with a percentage of 38.5%."
   ]
  },
  {
   "cell_type": "code",
   "execution_count": 12,
   "metadata": {},
   "outputs": [
    {
     "data": {
      "text/plain": [
       "[Text(0.5, 1.0, 'Year vs. Panic Attacks')]"
      ]
     },
     "execution_count": 12,
     "metadata": {},
     "output_type": "execute_result"
    },
    {
     "data": {
      "image/png": "[encoded data removed]",
      "text/plain": [
       "<Figure size 1200x400 with 3 Axes>"
      ]
     },
     "metadata": {},
     "output_type": "display_data"
    }
   ],
   "source": [
    "# Create subplots to display year vs. depression, anxiety, and panic attacks \n",
    "fig, axes = plt.subplots(nrows=1, ncols=3, figsize=(12, 4))\n",
    "\n",
    "# Creating subplot for each variable and customizing it\n",
    "sns.countplot(data=students, x=\"Year\", hue=\"Depression\", palette='dark', ax=axes[0]).set(title='Year vs. Depression')\n",
    "sns.countplot(data=students, x=\"Year\", hue=\"Anxiety\", palette='viridis', ax=axes[1], hue_order=[\"Yes\", \"No\"]).set(title='Year vs. Anxiety')\n",
    "sns.countplot(data=students, x=\"Year\", hue=\"Panic Attacks\", palette='plasma', ax=axes[2]).set(title='Year vs. Panic Attacks')"
   ]
  },
  {
   "cell_type": "markdown",
   "metadata": {},
   "source": [
    "> The figure above further proves that the proportion of second and third-year students who deal with mental health issues is much larger than the proportion of first and fourth-year students. There are clearly many more first-year students in this dataset, which is why I chose to analyze percentages and proportions rather than raw counts. "
   ]
  },
  {
   "cell_type": "markdown",
   "metadata": {},
   "source": [
    "### Are Upper-Years More Likely to Seek Treatment?\n"
   ]
  },
  {
   "cell_type": "code",
   "execution_count": 13,
   "metadata": {},
   "outputs": [
    {
     "data": {
      "text/html": [
       "<div>\n",
       "<style scoped>\n",
       "    .dataframe tbody tr th:only-of-type {\n",
       "        vertical-align: middle;\n",
       "    }\n",
       "\n",
       "    .dataframe tbody tr th {\n",
       "        vertical-align: top;\n",
       "    }\n",
       "\n",
       "    .dataframe thead th {\n",
       "        text-align: right;\n",
       "    }\n",
       "</style>\n",
       "<table border=\"1\" class=\"dataframe\">\n",
       "  <thead>\n",
       "    <tr style=\"text-align: right;\">\n",
       "      <th>Treatment</th>\n",
       "      <th>0</th>\n",
       "      <th>1</th>\n",
       "    </tr>\n",
       "    <tr>\n",
       "      <th>Year</th>\n",
       "      <th></th>\n",
       "      <th></th>\n",
       "    </tr>\n",
       "  </thead>\n",
       "  <tbody>\n",
       "    <tr>\n",
       "      <th>1</th>\n",
       "      <td>40.0</td>\n",
       "      <td>3.0</td>\n",
       "    </tr>\n",
       "    <tr>\n",
       "      <th>2</th>\n",
       "      <td>24.0</td>\n",
       "      <td>2.0</td>\n",
       "    </tr>\n",
       "    <tr>\n",
       "      <th>3</th>\n",
       "      <td>23.0</td>\n",
       "      <td>1.0</td>\n",
       "    </tr>\n",
       "    <tr>\n",
       "      <th>4</th>\n",
       "      <td>8.0</td>\n",
       "      <td>0.0</td>\n",
       "    </tr>\n",
       "  </tbody>\n",
       "</table>\n",
       "</div>"
      ],
      "text/plain": [
       "Treatment     0    1\n",
       "Year                \n",
       "1          40.0  3.0\n",
       "2          24.0  2.0\n",
       "3          23.0  1.0\n",
       "4           8.0  0.0"
      ]
     },
     "metadata": {},
     "output_type": "display_data"
    }
   ],
   "source": [
    "# Display table comparing year of study with likelihood of seeking treatment using groupby\n",
    "treatment = students.groupby(['Year', 'Treatment']).size().unstack().fillna(0)\n",
    "display(treatment)"
   ]
  },
  {
   "cell_type": "markdown",
   "metadata": {},
   "source": [
    "> While looking at the dataset, one of the initial questions I had was if upper-year students would be more able to seek treatment as they may have easier access to it. However, the data above shows that students across all four years are unlikely to seek treatment, and due to the skewness of the data, there is not enough information to answer the question. "
   ]
  },
  {
   "cell_type": "markdown",
   "metadata": {},
   "source": [
    "### CGPA vs. Depression, Anxiety, Panic Attacks"
   ]
  },
  {
   "cell_type": "code",
   "execution_count": 14,
   "metadata": {},
   "outputs": [
    {
     "data": {
      "text/html": [
       "<div>\n",
       "<style scoped>\n",
       "    .dataframe tbody tr th:only-of-type {\n",
       "        vertical-align: middle;\n",
       "    }\n",
       "\n",
       "    .dataframe tbody tr th {\n",
       "        vertical-align: top;\n",
       "    }\n",
       "\n",
       "    .dataframe thead th {\n",
       "        text-align: right;\n",
       "    }\n",
       "</style>\n",
       "<table border=\"1\" class=\"dataframe\">\n",
       "  <thead>\n",
       "    <tr style=\"text-align: right;\">\n",
       "      <th>Depression</th>\n",
       "      <th>No</th>\n",
       "      <th>Yes</th>\n",
       "    </tr>\n",
       "    <tr>\n",
       "      <th>CGPA</th>\n",
       "      <th></th>\n",
       "      <th></th>\n",
       "    </tr>\n",
       "  </thead>\n",
       "  <tbody>\n",
       "    <tr>\n",
       "      <th>0 - 1.99</th>\n",
       "      <td>4.0</td>\n",
       "      <td>0.0</td>\n",
       "    </tr>\n",
       "    <tr>\n",
       "      <th>2.00 - 2.49</th>\n",
       "      <td>2.0</td>\n",
       "      <td>0.0</td>\n",
       "    </tr>\n",
       "    <tr>\n",
       "      <th>2.50 - 2.99</th>\n",
       "      <td>1.0</td>\n",
       "      <td>3.0</td>\n",
       "    </tr>\n",
       "    <tr>\n",
       "      <th>3.00 - 3.49</th>\n",
       "      <td>24.0</td>\n",
       "      <td>19.0</td>\n",
       "    </tr>\n",
       "    <tr>\n",
       "      <th>3.50 - 4.00</th>\n",
       "      <td>35.0</td>\n",
       "      <td>13.0</td>\n",
       "    </tr>\n",
       "  </tbody>\n",
       "</table>\n",
       "</div>"
      ],
      "text/plain": [
       "Depression     No   Yes\n",
       "CGPA                   \n",
       "0 - 1.99      4.0   0.0\n",
       "2.00 - 2.49   2.0   0.0\n",
       "2.50 - 2.99   1.0   3.0\n",
       "3.00 - 3.49  24.0  19.0\n",
       "3.50 - 4.00  35.0  13.0"
      ]
     },
     "metadata": {},
     "output_type": "display_data"
    },
    {
     "data": {
      "text/html": [
       "<div>\n",
       "<style scoped>\n",
       "    .dataframe tbody tr th:only-of-type {\n",
       "        vertical-align: middle;\n",
       "    }\n",
       "\n",
       "    .dataframe tbody tr th {\n",
       "        vertical-align: top;\n",
       "    }\n",
       "\n",
       "    .dataframe thead th {\n",
       "        text-align: right;\n",
       "    }\n",
       "</style>\n",
       "<table border=\"1\" class=\"dataframe\">\n",
       "  <thead>\n",
       "    <tr style=\"text-align: right;\">\n",
       "      <th>Anxiety</th>\n",
       "      <th>No</th>\n",
       "      <th>Yes</th>\n",
       "    </tr>\n",
       "    <tr>\n",
       "      <th>CGPA</th>\n",
       "      <th></th>\n",
       "      <th></th>\n",
       "    </tr>\n",
       "  </thead>\n",
       "  <tbody>\n",
       "    <tr>\n",
       "      <th>0 - 1.99</th>\n",
       "      <td>4.0</td>\n",
       "      <td>0.0</td>\n",
       "    </tr>\n",
       "    <tr>\n",
       "      <th>2.00 - 2.49</th>\n",
       "      <td>2.0</td>\n",
       "      <td>0.0</td>\n",
       "    </tr>\n",
       "    <tr>\n",
       "      <th>2.50 - 2.99</th>\n",
       "      <td>3.0</td>\n",
       "      <td>1.0</td>\n",
       "    </tr>\n",
       "    <tr>\n",
       "      <th>3.00 - 3.49</th>\n",
       "      <td>28.0</td>\n",
       "      <td>15.0</td>\n",
       "    </tr>\n",
       "    <tr>\n",
       "      <th>3.50 - 4.00</th>\n",
       "      <td>30.0</td>\n",
       "      <td>18.0</td>\n",
       "    </tr>\n",
       "  </tbody>\n",
       "</table>\n",
       "</div>"
      ],
      "text/plain": [
       "Anxiety        No   Yes\n",
       "CGPA                   \n",
       "0 - 1.99      4.0   0.0\n",
       "2.00 - 2.49   2.0   0.0\n",
       "2.50 - 2.99   3.0   1.0\n",
       "3.00 - 3.49  28.0  15.0\n",
       "3.50 - 4.00  30.0  18.0"
      ]
     },
     "metadata": {},
     "output_type": "display_data"
    },
    {
     "data": {
      "text/html": [
       "<div>\n",
       "<style scoped>\n",
       "    .dataframe tbody tr th:only-of-type {\n",
       "        vertical-align: middle;\n",
       "    }\n",
       "\n",
       "    .dataframe tbody tr th {\n",
       "        vertical-align: top;\n",
       "    }\n",
       "\n",
       "    .dataframe thead th {\n",
       "        text-align: right;\n",
       "    }\n",
       "</style>\n",
       "<table border=\"1\" class=\"dataframe\">\n",
       "  <thead>\n",
       "    <tr style=\"text-align: right;\">\n",
       "      <th>Panic Attacks</th>\n",
       "      <th>No</th>\n",
       "      <th>Yes</th>\n",
       "    </tr>\n",
       "    <tr>\n",
       "      <th>CGPA</th>\n",
       "      <th></th>\n",
       "      <th></th>\n",
       "    </tr>\n",
       "  </thead>\n",
       "  <tbody>\n",
       "    <tr>\n",
       "      <th>0 - 1.99</th>\n",
       "      <td>3</td>\n",
       "      <td>1</td>\n",
       "    </tr>\n",
       "    <tr>\n",
       "      <th>2.00 - 2.49</th>\n",
       "      <td>1</td>\n",
       "      <td>1</td>\n",
       "    </tr>\n",
       "    <tr>\n",
       "      <th>2.50 - 2.99</th>\n",
       "      <td>1</td>\n",
       "      <td>3</td>\n",
       "    </tr>\n",
       "    <tr>\n",
       "      <th>3.00 - 3.49</th>\n",
       "      <td>34</td>\n",
       "      <td>9</td>\n",
       "    </tr>\n",
       "    <tr>\n",
       "      <th>3.50 - 4.00</th>\n",
       "      <td>29</td>\n",
       "      <td>19</td>\n",
       "    </tr>\n",
       "  </tbody>\n",
       "</table>\n",
       "</div>"
      ],
      "text/plain": [
       "Panic Attacks  No  Yes\n",
       "CGPA                  \n",
       "0 - 1.99        3    1\n",
       "2.00 - 2.49     1    1\n",
       "2.50 - 2.99     1    3\n",
       "3.00 - 3.49    34    9\n",
       "3.50 - 4.00    29   19"
      ]
     },
     "metadata": {},
     "output_type": "display_data"
    }
   ],
   "source": [
    "# Create dataframes comparing CGPA with depression, anxiety, and panic attacks using groupby\n",
    "cgpa_depression = students.groupby(['CGPA', 'Depression']).size().unstack().fillna(0)\n",
    "cgpa_anxiety = students.groupby(['CGPA', 'Anxiety']).size().unstack().fillna(0)\n",
    "cgpa_panic = students.groupby(['CGPA', 'Panic Attacks']).size().unstack().fillna(0)\n",
    "\n",
    "# Display the tables\n",
    "display(cgpa_depression, cgpa_anxiety, cgpa_panic)"
   ]
  },
  {
   "cell_type": "markdown",
   "metadata": {},
   "source": [
    "> Majority of the students who go through depression, anxiety, and panic attacks seem to be students with higher CGPAs."
   ]
  },
  {
   "cell_type": "markdown",
   "metadata": {},
   "source": [
    "## Discussion"
   ]
  },
  {
   "cell_type": "markdown",
   "metadata": {},
   "source": [
    "The exploration and analysis of the dataset concerning the mental health of university students has revealed meaningful insights. Visualizing distributions in the dataset highlighted that the majority of the students were younger and in their first year of studies. Notably, majority of the students had high CGPAs, and only 5.9% of the students sought mental health treatment. The initial inquiry was if the student's year of study correlates to their mental health. After a comprehensive analysis, it can be said that the majority of students with depression, anxiety, or panic attacks seems to be students in their second and third-year of study. Several plausible explanations for these results include; students being faced with more challenging coursework or experiencing a significant increase in workload going from first to second or second to third year, pressure associated with obtaining internships or co-op opportunities, and more responsibilites outside of class time such as making impressive projects. "
   ]
  },
  {
   "cell_type": "markdown",
   "metadata": {},
   "source": [
    "## References"
   ]
  },
  {
   "cell_type": "markdown",
   "metadata": {},
   "source": [
    "Source data: https://www.kaggle.com/datasets/shariful07/student-mental-health/data <br>pandas for data manipulation</br>Seaborn for data viz\n",
    "<br>Matplotlib for data viz</br>\n"
   ]
  }
 ],
 "metadata": {
  "kernelspec": {
   "display_name": "base",
   "language": "python",
   "name": "python3"
  },
  "language_info": {
   "codemirror_mode": {
    "name": "ipython",
    "version": 3
   },
   "file_extension": ".py",
   "mimetype": "text/x-python",
   "name": "python",
   "nbconvert_exporter": "python",
   "pygments_lexer": "ipython3",
   "version": "3.9.13"
  }
 },
 "nbformat": 4,
 "nbformat_minor": 2
}
